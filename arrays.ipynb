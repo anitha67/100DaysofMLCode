{
  "nbformat": 4,
  "nbformat_minor": 0,
  "metadata": {
    "colab": {
      "name": "Untitled0.ipynb",
      "provenance": [],
      "authorship_tag": "ABX9TyN5DSSxymg9lwst1caE6TQc",
      "include_colab_link": true
    },
    "kernelspec": {
      "name": "python3",
      "display_name": "Python 3"
    },
    "language_info": {
      "name": "python"
    }
  },
  "cells": [
    {
      "cell_type": "markdown",
      "metadata": {
        "id": "view-in-github",
        "colab_type": "text"
      },
      "source": [
        "<a href=\"https://colab.research.google.com/github/anitha67/100DaysofMLCode/blob/master/arrays.ipynb\" target=\"_parent\"><img src=\"https://colab.research.google.com/assets/colab-badge.svg\" alt=\"Open In Colab\"/></a>"
      ]
    },
    {
      "cell_type": "code",
      "execution_count": 2,
      "metadata": {
        "id": "0e6_dFmVnzoj"
      },
      "outputs": [],
      "source": [
        "l=[2200,2350,2600,2130,2190]"
      ]
    },
    {
      "cell_type": "code",
      "source": [
        "print(\"In Feb, how many dollars you spent extra compare to January:\",l[1]-l[0])"
      ],
      "metadata": {
        "colab": {
          "base_uri": "https://localhost:8080/"
        },
        "id": "aZ0Xc4ZSoHkZ",
        "outputId": "05e568ae-1f0e-4ae9-8cbb-90fbf66533d3"
      },
      "execution_count": 3,
      "outputs": [
        {
          "output_type": "stream",
          "name": "stdout",
          "text": [
            "In Feb, how many dollars you spent extra compare to January: 150\n"
          ]
        }
      ]
    },
    {
      "cell_type": "code",
      "source": [
        "print(\"total expense in first quarter (first three months) of the year:\",l[0]+l[1]+l[2])"
      ],
      "metadata": {
        "colab": {
          "base_uri": "https://localhost:8080/"
        },
        "id": "ABS44mtNo2ta",
        "outputId": "6be71e2e-63f8-4af4-f80f-dd51d4fc8631"
      },
      "execution_count": 5,
      "outputs": [
        {
          "output_type": "stream",
          "name": "stdout",
          "text": [
            "total expense in first quarter (first three months) of the year: 7150\n"
          ]
        }
      ]
    },
    {
      "cell_type": "code",
      "source": [
        "print(\"Did I spent 2000$ in any month? \", 2000 in l)"
      ],
      "metadata": {
        "colab": {
          "base_uri": "https://localhost:8080/"
        },
        "id": "c8ogQi_-pDMd",
        "outputId": "fe84bc94-87e3-4781-8118-eb848fe57c58"
      },
      "execution_count": 6,
      "outputs": [
        {
          "output_type": "stream",
          "name": "stdout",
          "text": [
            "Did I spent 2000$ in any month?  False\n"
          ]
        }
      ]
    },
    {
      "cell_type": "markdown",
      "source": [
        "June month just finished and your expense is 1980 dollar. Add this item to our monthly expense list"
      ],
      "metadata": {
        "id": "JOgJ2hSdpcgT"
      }
    },
    {
      "cell_type": "code",
      "source": [
        "l.append(1980)"
      ],
      "metadata": {
        "id": "HMfQzy9epSQU"
      },
      "execution_count": 7,
      "outputs": []
    },
    {
      "cell_type": "code",
      "source": [
        "print(\"Expenses at the end of June:\",l)"
      ],
      "metadata": {
        "colab": {
          "base_uri": "https://localhost:8080/"
        },
        "id": "tEPc-CjKpiVr",
        "outputId": "7346b60b-1374-44d4-c28a-94ea80a668aa"
      },
      "execution_count": 8,
      "outputs": [
        {
          "output_type": "stream",
          "name": "stdout",
          "text": [
            "Expenses at the end of June: [2200, 2350, 2600, 2130, 2190, 1980]\n"
          ]
        }
      ]
    },
    {
      "cell_type": "markdown",
      "source": [
        "You returned an item that you bought in a month of April and\n",
        "# got a refund of 200$. Make a correction to your monthly expense list\n",
        "# based on this"
      ],
      "metadata": {
        "id": "fXaxELLSptMh"
      }
    },
    {
      "cell_type": "code",
      "source": [
        "l[3]=l[3]-200"
      ],
      "metadata": {
        "id": "kW-CprJipnmX"
      },
      "execution_count": 9,
      "outputs": []
    },
    {
      "cell_type": "code",
      "source": [
        "print(l)"
      ],
      "metadata": {
        "colab": {
          "base_uri": "https://localhost:8080/"
        },
        "id": "y7r0EN5ZqDHg",
        "outputId": "4e1967fb-c837-497e-fbf1-a3242cc33d8b"
      },
      "execution_count": 10,
      "outputs": [
        {
          "output_type": "stream",
          "name": "stdout",
          "text": [
            "[2200, 2350, 2600, 1930, 2190, 1980]\n"
          ]
        }
      ]
    },
    {
      "cell_type": "markdown",
      "source": [
        "2.exercise"
      ],
      "metadata": {
        "id": "PKXq4U-rqgl_"
      }
    },
    {
      "cell_type": "code",
      "source": [
        "heros=['spider man','thor','hulk','iron man','captain america']\n",
        "#length of the list\n",
        "len(heros)\n"
      ],
      "metadata": {
        "colab": {
          "base_uri": "https://localhost:8080/"
        },
        "id": "7utYJv56qHk6",
        "outputId": "337f93de-c355-443b-89d2-0ab255f6ee42"
      },
      "execution_count": 11,
      "outputs": [
        {
          "output_type": "execute_result",
          "data": {
            "text/plain": [
              "5"
            ]
          },
          "metadata": {},
          "execution_count": 11
        }
      ]
    },
    {
      "cell_type": "markdown",
      "source": [
        "2. Add 'black panther' at the end of this list"
      ],
      "metadata": {
        "id": "7EpXlDP4qxDZ"
      }
    },
    {
      "cell_type": "code",
      "source": [
        "heros.append('Black panther')\n",
        "print(heros)"
      ],
      "metadata": {
        "colab": {
          "base_uri": "https://localhost:8080/"
        },
        "id": "oGPNLNXbqrUq",
        "outputId": "704d38f3-31a0-49f4-e471-000b97cc213a"
      },
      "execution_count": 13,
      "outputs": [
        {
          "output_type": "stream",
          "name": "stdout",
          "text": [
            "['spider man', 'thor', 'hulk', 'iron man', 'captain america', 'Black panther', 'Black panther']\n"
          ]
        }
      ]
    },
    {
      "cell_type": "markdown",
      "source": [
        "3. You realize that you need to add 'black panther' after 'hulk',\n",
        "# so remove it from the list first and then add it after 'hulk'"
      ],
      "metadata": {
        "id": "ZUBGVk7hrYnK"
      }
    },
    {
      "cell_type": "code",
      "source": [
        "heros.remove('Black panther')\n",
        "heros.insert(3,'Black panther')\n",
        "print(heros)"
      ],
      "metadata": {
        "colab": {
          "base_uri": "https://localhost:8080/"
        },
        "id": "qKdkOZrLq2lS",
        "outputId": "c538490c-597c-47d5-e62b-67e160a3807f"
      },
      "execution_count": 16,
      "outputs": [
        {
          "output_type": "stream",
          "name": "stdout",
          "text": [
            "['spider man', 'thor', 'hulk', 'Black panther', 'iron man', 'captain america', 'Black panther']\n"
          ]
        }
      ]
    },
    {
      "cell_type": "markdown",
      "source": [
        "Now you don't like thor and hulk because they get angry easily :)\n",
        "   So you want to remove thor and hulk from list and replace them with doctor strange (because he is cool).\n",
        "   Do that with one line of code."
      ],
      "metadata": {
        "id": "LqvD-1HBsG41"
      }
    },
    {
      "cell_type": "code",
      "source": [
        "heros[1:3]=['doctor strange']\n",
        "print(heros)"
      ],
      "metadata": {
        "colab": {
          "base_uri": "https://localhost:8080/"
        },
        "id": "zGoKwboArxgA",
        "outputId": "0aef6ff2-79c7-4181-bc29-fc973495a194"
      },
      "execution_count": 17,
      "outputs": [
        {
          "output_type": "stream",
          "name": "stdout",
          "text": [
            "['spider man', 'doctor strange', 'Black panther', 'iron man', 'captain america', 'Black panther']\n"
          ]
        }
      ]
    },
    {
      "cell_type": "markdown",
      "source": [
        " Sort the list in alphabetical order"
      ],
      "metadata": {
        "id": "n8BQ7sL3siye"
      }
    },
    {
      "cell_type": "code",
      "source": [
        "heros.sort()\n",
        "print(heros)"
      ],
      "metadata": {
        "colab": {
          "base_uri": "https://localhost:8080/"
        },
        "id": "8KK_dd8Nscdy",
        "outputId": "573cd816-11fc-449f-db67-b6791db4c09b"
      },
      "execution_count": 19,
      "outputs": [
        {
          "output_type": "stream",
          "name": "stdout",
          "text": [
            "['Black panther', 'Black panther', 'captain america', 'doctor strange', 'iron man', 'spider man']\n"
          ]
        }
      ]
    },
    {
      "cell_type": "markdown",
      "source": [
        "odd or even numbers"
      ],
      "metadata": {
        "id": "weXuiuRDszV6"
      }
    },
    {
      "cell_type": "code",
      "source": [
        "max = int(input(\"Enter max number: \"))\n",
        "\n",
        "odd_numbers = []\n",
        "\n",
        "for i in range(1, max):\n",
        "    if i % 2 == 1:\n",
        "        odd_numbers.append(i)\n",
        "\n",
        "print(\"Odd numbers: \", odd_numbers)"
      ],
      "metadata": {
        "colab": {
          "base_uri": "https://localhost:8080/"
        },
        "id": "RwmNi-84so6K",
        "outputId": "d6348eb8-ceba-42c7-d604-a0a986ab7efe"
      },
      "execution_count": 20,
      "outputs": [
        {
          "output_type": "stream",
          "name": "stdout",
          "text": [
            "Enter max number: 7\n",
            "Odd numbers:  [1, 3, 5]\n"
          ]
        }
      ]
    },
    {
      "cell_type": "code",
      "source": [
        ""
      ],
      "metadata": {
        "id": "qVdGhJL6tAtd"
      },
      "execution_count": null,
      "outputs": []
    }
  ]
}